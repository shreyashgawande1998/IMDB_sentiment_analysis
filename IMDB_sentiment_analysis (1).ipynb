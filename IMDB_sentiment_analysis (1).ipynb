{
 "cells": [
  {
   "cell_type": "markdown",
   "metadata": {
    "id": "-hLdF1oit06A"
   },
   "source": [
    "# Sentiment analysis of IMDB reviews\n",
    "We will start by importing the necessary libraries"
   ]
  },
  {
   "cell_type": "code",
   "execution_count": 1,
   "metadata": {
    "id": "DzJqzHv-LceW"
   },
   "outputs": [],
   "source": [
    "import tensorflow as tf"
   ]
  },
  {
   "cell_type": "code",
   "execution_count": 2,
   "metadata": {
    "id": "54C8Oca0LlVR"
   },
   "outputs": [],
   "source": [
    "import tensorflow.keras as keras\n",
    "import numpy as np\n",
    "import pandas as pd\n",
    "import matplotlib.pyplot as plt\n",
    "import tensorflow as tf"
   ]
  },
  {
   "cell_type": "markdown",
   "metadata": {
    "id": "npBPD8k_PwRJ"
   },
   "source": [
    "# Importing the data files\n",
    "After importing the necessary libraries now we will read the data files we have two data files here\n",
    "\n"
   ]
  },
  {
   "cell_type": "code",
   "execution_count": 5,
   "metadata": {
    "id": "eOvZ5uMyOtTF"
   },
   "outputs": [],
   "source": [
    "imdb_reviews=pd.read_csv(\"imdb_reviews.csv\")\n",
    "test_reviews=pd.read_csv(\"test_reviews.csv\")"
   ]
  },
  {
   "cell_type": "markdown",
   "metadata": {
    "id": "C4a_Zs-8WhcH"
   },
   "source": [
    "first data file contains the imdb reviews and their corresponding sentiments which can be either positive or negative, we are going to use this file as our training data."
   ]
  },
  {
   "cell_type": "code",
   "execution_count": 6,
   "metadata": {
    "colab": {
     "base_uri": "https://localhost:8080/",
     "height": 204
    },
    "id": "YI4qnZOTPFqx",
    "outputId": "5240acf8-e34a-4857-ad0f-5b72ed9ae3b7"
   },
   "outputs": [
    {
     "data": {
      "text/html": [
       "<div>\n",
       "<style scoped>\n",
       "    .dataframe tbody tr th:only-of-type {\n",
       "        vertical-align: middle;\n",
       "    }\n",
       "\n",
       "    .dataframe tbody tr th {\n",
       "        vertical-align: top;\n",
       "    }\n",
       "\n",
       "    .dataframe thead th {\n",
       "        text-align: right;\n",
       "    }\n",
       "</style>\n",
       "<table border=\"1\" class=\"dataframe\">\n",
       "  <thead>\n",
       "    <tr style=\"text-align: right;\">\n",
       "      <th></th>\n",
       "      <th>Reviews</th>\n",
       "      <th>Sentiment</th>\n",
       "    </tr>\n",
       "  </thead>\n",
       "  <tbody>\n",
       "    <tr>\n",
       "      <th>0</th>\n",
       "      <td>&lt;START this film was just brilliant casting lo...</td>\n",
       "      <td>positive</td>\n",
       "    </tr>\n",
       "    <tr>\n",
       "      <th>1</th>\n",
       "      <td>&lt;START big hair big boobs bad music and a gian...</td>\n",
       "      <td>negative</td>\n",
       "    </tr>\n",
       "    <tr>\n",
       "      <th>2</th>\n",
       "      <td>&lt;START this has to be one of the worst films o...</td>\n",
       "      <td>negative</td>\n",
       "    </tr>\n",
       "    <tr>\n",
       "      <th>3</th>\n",
       "      <td>&lt;START the &lt;UNK&gt; &lt;UNK&gt; at storytelling the tra...</td>\n",
       "      <td>positive</td>\n",
       "    </tr>\n",
       "    <tr>\n",
       "      <th>4</th>\n",
       "      <td>&lt;START worst mistake of my life br br i picked...</td>\n",
       "      <td>negative</td>\n",
       "    </tr>\n",
       "  </tbody>\n",
       "</table>\n",
       "</div>"
      ],
      "text/plain": [
       "                                             Reviews Sentiment\n",
       "0  <START this film was just brilliant casting lo...  positive\n",
       "1  <START big hair big boobs bad music and a gian...  negative\n",
       "2  <START this has to be one of the worst films o...  negative\n",
       "3  <START the <UNK> <UNK> at storytelling the tra...  positive\n",
       "4  <START worst mistake of my life br br i picked...  negative"
      ]
     },
     "execution_count": 6,
     "metadata": {},
     "output_type": "execute_result"
    }
   ],
   "source": [
    "imdb_reviews.head()"
   ]
  },
  {
   "cell_type": "markdown",
   "metadata": {
    "id": "2rNGROl5XYrL"
   },
   "source": [
    "the second file is also similar to the first file but we are going to use it as the test data."
   ]
  },
  {
   "cell_type": "code",
   "execution_count": 7,
   "metadata": {
    "colab": {
     "base_uri": "https://localhost:8080/",
     "height": 204
    },
    "id": "LGqg6S8OXVmV",
    "outputId": "4318016f-7ebd-4592-c630-2dbde76b80e8"
   },
   "outputs": [
    {
     "data": {
      "text/html": [
       "<div>\n",
       "<style scoped>\n",
       "    .dataframe tbody tr th:only-of-type {\n",
       "        vertical-align: middle;\n",
       "    }\n",
       "\n",
       "    .dataframe tbody tr th {\n",
       "        vertical-align: top;\n",
       "    }\n",
       "\n",
       "    .dataframe thead th {\n",
       "        text-align: right;\n",
       "    }\n",
       "</style>\n",
       "<table border=\"1\" class=\"dataframe\">\n",
       "  <thead>\n",
       "    <tr style=\"text-align: right;\">\n",
       "      <th></th>\n",
       "      <th>Reviews</th>\n",
       "      <th>Sentiment</th>\n",
       "    </tr>\n",
       "  </thead>\n",
       "  <tbody>\n",
       "    <tr>\n",
       "      <th>0</th>\n",
       "      <td>&lt;START please give this one a miss br br &lt;UNK&gt;...</td>\n",
       "      <td>negative</td>\n",
       "    </tr>\n",
       "    <tr>\n",
       "      <th>1</th>\n",
       "      <td>&lt;START this film requires a lot of patience be...</td>\n",
       "      <td>positive</td>\n",
       "    </tr>\n",
       "    <tr>\n",
       "      <th>2</th>\n",
       "      <td>&lt;START many animation buffs consider &lt;UNK&gt; &lt;UN...</td>\n",
       "      <td>positive</td>\n",
       "    </tr>\n",
       "    <tr>\n",
       "      <th>3</th>\n",
       "      <td>&lt;START i generally love this type of movie how...</td>\n",
       "      <td>negative</td>\n",
       "    </tr>\n",
       "    <tr>\n",
       "      <th>4</th>\n",
       "      <td>&lt;START like some other people wrote i'm a die ...</td>\n",
       "      <td>positive</td>\n",
       "    </tr>\n",
       "  </tbody>\n",
       "</table>\n",
       "</div>"
      ],
      "text/plain": [
       "                                             Reviews Sentiment\n",
       "0  <START please give this one a miss br br <UNK>...  negative\n",
       "1  <START this film requires a lot of patience be...  positive\n",
       "2  <START many animation buffs consider <UNK> <UN...  positive\n",
       "3  <START i generally love this type of movie how...  negative\n",
       "4  <START like some other people wrote i'm a die ...  positive"
      ]
     },
     "execution_count": 7,
     "metadata": {},
     "output_type": "execute_result"
    }
   ],
   "source": [
    "test_reviews.head()"
   ]
  },
  {
   "cell_type": "markdown",
   "metadata": {
    "id": "cOfnoRhGXogV"
   },
   "source": [
    "# Preprocessing the data\n",
    "We can not pass the string data to our model directly, so we need to transform the string data into integer format.For this we can map each distinct word as a distinct integer for eg.{'this':14 , 'the':1}.We already have a file that contains the mapping from words to integers so we are going to load that file.\n"
   ]
  },
  {
   "cell_type": "code",
   "execution_count": 9,
   "metadata": {
    "id": "uf5XTq_hAxL6"
   },
   "outputs": [],
   "source": [
    "word_index=pd.read_csv(\"word_indexes.csv\")"
   ]
  },
  {
   "cell_type": "markdown",
   "metadata": {
    "id": "dE47q3yibEIM"
   },
   "source": [
    "The word index file contains mapping from words to integers."
   ]
  },
  {
   "cell_type": "code",
   "execution_count": 10,
   "metadata": {
    "colab": {
     "base_uri": "https://localhost:8080/",
     "height": 204
    },
    "id": "AbkABN8jA_Ye",
    "outputId": "9e7ba619-7176-4e44-e0a7-155ca10ed731"
   },
   "outputs": [
    {
     "data": {
      "text/html": [
       "<div>\n",
       "<style scoped>\n",
       "    .dataframe tbody tr th:only-of-type {\n",
       "        vertical-align: middle;\n",
       "    }\n",
       "\n",
       "    .dataframe tbody tr th {\n",
       "        vertical-align: top;\n",
       "    }\n",
       "\n",
       "    .dataframe thead th {\n",
       "        text-align: right;\n",
       "    }\n",
       "</style>\n",
       "<table border=\"1\" class=\"dataframe\">\n",
       "  <thead>\n",
       "    <tr style=\"text-align: right;\">\n",
       "      <th></th>\n",
       "      <th>Words</th>\n",
       "      <th>Indexes</th>\n",
       "    </tr>\n",
       "  </thead>\n",
       "  <tbody>\n",
       "    <tr>\n",
       "      <th>0</th>\n",
       "      <td>tsukino</td>\n",
       "      <td>52009</td>\n",
       "    </tr>\n",
       "    <tr>\n",
       "      <th>1</th>\n",
       "      <td>nunnery</td>\n",
       "      <td>52010</td>\n",
       "    </tr>\n",
       "    <tr>\n",
       "      <th>2</th>\n",
       "      <td>sonja</td>\n",
       "      <td>16819</td>\n",
       "    </tr>\n",
       "    <tr>\n",
       "      <th>3</th>\n",
       "      <td>vani</td>\n",
       "      <td>63954</td>\n",
       "    </tr>\n",
       "    <tr>\n",
       "      <th>4</th>\n",
       "      <td>woods</td>\n",
       "      <td>1411</td>\n",
       "    </tr>\n",
       "  </tbody>\n",
       "</table>\n",
       "</div>"
      ],
      "text/plain": [
       "     Words  Indexes\n",
       "0  tsukino    52009\n",
       "1  nunnery    52010\n",
       "2    sonja    16819\n",
       "3     vani    63954\n",
       "4    woods     1411"
      ]
     },
     "execution_count": 10,
     "metadata": {},
     "output_type": "execute_result"
    }
   ],
   "source": [
    "word_index.head()"
   ]
  },
  {
   "cell_type": "markdown",
   "metadata": {
    "id": "QZYF6pDzbNCe"
   },
   "source": [
    "Next we are going to convert the word_index dataframe into a python dictionary so that we can use it for converting our reviews from string to integer format."
   ]
  },
  {
   "cell_type": "code",
   "execution_count": 11,
   "metadata": {
    "id": "zuiMcF5XD65R"
   },
   "outputs": [],
   "source": [
    "word_index=dict(zip(word_index.Words,word_index.Indexes))"
   ]
  },
  {
   "cell_type": "code",
   "execution_count": 12,
   "metadata": {
    "id": "FsScw2ilFqap"
   },
   "outputs": [],
   "source": [
    "word_index[\"<PAD>\"]=0\n",
    "word_index[\"<START\"]=1\n",
    "word_index[\"<UNK>\"]=2\n",
    "word_index[\"<UNUSED>\"]=3"
   ]
  },
  {
   "cell_type": "markdown",
   "metadata": {
    "id": "bVEL7jQ6bjbV"
   },
   "source": [
    "Now we define a function review_encoder that encodes the reviews into integer format according to the mapping specified by word_index file."
   ]
  },
  {
   "cell_type": "code",
   "execution_count": 13,
   "metadata": {
    "id": "nay4o8dSAqbu"
   },
   "outputs": [],
   "source": [
    "def review_encoder(text):\n",
    "  arr=[word_index[word] for word in text]\n",
    "  return arr"
   ]
  },
  {
   "cell_type": "markdown",
   "metadata": {
    "id": "d3mS11cVcGhU"
   },
   "source": [
    "We split the reviews from their corresponding sentiments so that we can preprocess the reviews and sentiments separately and then later pass it to our model."
   ]
  },
  {
   "cell_type": "code",
   "execution_count": 14,
   "metadata": {
    "id": "bUhde9eLE5H3"
   },
   "outputs": [],
   "source": [
    "train_data,train_labels=imdb_reviews['Reviews'],imdb_reviews['Sentiment']\n",
    "test_data, test_labels=test_reviews['Reviews'],test_reviews['Sentiment']"
   ]
  },
  {
   "cell_type": "markdown",
   "metadata": {
    "id": "jBWDVwCNdBJP"
   },
   "source": [
    "Before transforming the reviews as integers we need to tokenize or split the review on the basis of whitespaces\n",
    "For eg.the string \"The movie was wonderful\" becomes [\"The\" , \"movie\" , \"was\" , \"wonderful\" ]."
   ]
  },
  {
   "cell_type": "code",
   "execution_count": 15,
   "metadata": {
    "id": "frWCqvycL-w5"
   },
   "outputs": [],
   "source": [
    "train_data=train_data.apply(lambda review:review.split())\n",
    "test_data=test_data.apply(lambda review:review.split())"
   ]
  },
  {
   "cell_type": "markdown",
   "metadata": {
    "id": "8GCM_74ve7OZ"
   },
   "source": [
    "Since we have tokenized the reviews now we can apply the review_encoder function to each review and transform the reviews into integer format."
   ]
  },
  {
   "cell_type": "code",
   "execution_count": 16,
   "metadata": {
    "id": "wJLwZH1OMPJM"
   },
   "outputs": [],
   "source": [
    "train_data=train_data.apply(review_encoder)\n",
    "test_data=test_data.apply(review_encoder)"
   ]
  },
  {
   "cell_type": "markdown",
   "metadata": {
    "id": "q8kdTaoOfj8d"
   },
   "source": [
    "After transforming, our reviews are going to look like this."
   ]
  },
  {
   "cell_type": "code",
   "execution_count": 17,
   "metadata": {
    "colab": {
     "base_uri": "https://localhost:8080/"
    },
    "id": "Z3M_klO4MhFA",
    "outputId": "df45cc5c-eb63-4a45-c3d9-86550578669c"
   },
   "outputs": [
    {
     "data": {
      "text/plain": [
       "0    [1, 14, 22, 16, 43, 530, 973, 1622, 1385, 65, ...\n",
       "1    [1, 194, 1153, 194, 8255, 78, 228, 5, 6, 1463,...\n",
       "2    [1, 14, 47, 8, 30, 31, 7, 4, 249, 108, 7, 4, 5...\n",
       "3    [1, 4, 2, 2, 33, 2804, 4, 2040, 432, 111, 153,...\n",
       "4    [1, 249, 1323, 7, 61, 113, 10, 10, 13, 1637, 1...\n",
       "Name: Reviews, dtype: object"
      ]
     },
     "execution_count": 17,
     "metadata": {},
     "output_type": "execute_result"
    }
   ],
   "source": [
    "train_data.head()"
   ]
  },
  {
   "cell_type": "markdown",
   "metadata": {
    "id": "gEUf78Aif02A"
   },
   "source": [
    "We also need to encode the sentiments and we are labeling the positive sentiment as 1 and negative sentiment as 0."
   ]
  },
  {
   "cell_type": "code",
   "execution_count": 18,
   "metadata": {
    "id": "p01DiByEJ7fw"
   },
   "outputs": [],
   "source": [
    "def encode_sentiments(x):\n",
    "  if x=='positive':\n",
    "    return 1\n",
    "  else:\n",
    "    return 0\n",
    "\n",
    "train_labels=train_labels.apply(encode_sentiments)\n",
    "test_labels=test_labels.apply(encode_sentiments)"
   ]
  },
  {
   "cell_type": "markdown",
   "metadata": {
    "id": "bPOP1mPd1mrh"
   },
   "source": [
    "Before giving the review as an input to the model we need to perform following preprocessing steps:\n",
    "\n",
    " \n",
    "\n",
    "\n",
    "*   The length of each review should be made equal for the model to be working correctly.\n",
    "\n",
    "*  We have chosen the length of each review to be 500. \n",
    "*     If the review is longer than 500 words we are going to cut the extra part of the review.\n",
    "\n",
    "\n",
    "*       If the review is contains less than 500 words we are going to pad the review with zeros to increase its length to 500.\n",
    "\n",
    "\n",
    "\n",
    "\n",
    "\n",
    "\n",
    "\n",
    "\n",
    "\n",
    "\n",
    "\n",
    "\n",
    "\n",
    "\n",
    "\n",
    "\n",
    "\n",
    "\n",
    "\n",
    "\n",
    "\n"
   ]
  },
  {
   "cell_type": "code",
   "execution_count": 19,
   "metadata": {
    "id": "CHEVR3TbPE_1"
   },
   "outputs": [],
   "source": [
    "train_data=keras.preprocessing.sequence.pad_sequences(train_data,value=word_index[\"<PAD>\"],padding='post',maxlen=500)\n",
    "test_data=keras.preprocessing.sequence.pad_sequences(test_data,value=word_index[\"<PAD>\"],padding='post',maxlen=500)"
   ]
  },
  {
   "cell_type": "markdown",
   "metadata": {
    "id": "EjL1Q8kG2YXV"
   },
   "source": [
    "#Building the model\n",
    "Our model is a neural network and it consits of the following layers : \n",
    "\n",
    "1.   one word embedding layer which creates word embeddings of length 16 from integer encoded review.\n",
    "2.  second layer is global average pooling layer which is used to prevent overfitting by reducing the number of parameters.\n",
    "\n",
    "1.   then a dense layer which has 16 hidden units and uses relu as activation function\n",
    "2.  the final layer is the output layer which uses sigmoid as activation function \n",
    "\n",
    "\n"
   ]
  },
  {
   "cell_type": "code",
   "execution_count": 20,
   "metadata": {
    "id": "D1WDSfAIPs31"
   },
   "outputs": [],
   "source": [
    "model=keras.Sequential([keras.layers.Embedding(10000,16,input_length=500),\n",
    "                        keras.layers.GlobalAveragePooling1D(),\n",
    "                        keras.layers.Dense(16,activation='relu'),\n",
    "                        keras.layers.Dense(1,activation='sigmoid')])"
   ]
  },
  {
   "cell_type": "markdown",
   "metadata": {
    "id": "9pK_1v8v3hBZ"
   },
   "source": [
    "#compiling the model\n",
    "\n",
    "\n",
    "1.   Adam is used as optimization function for our model.\n",
    "2.   Binary cross entropy loss function is used as loss function for the model.\n",
    "\n",
    "1.   Accuracy is used as the metric for evaluating the model.\n",
    "\n",
    "\n",
    "\n"
   ]
  },
  {
   "cell_type": "code",
   "execution_count": 21,
   "metadata": {
    "id": "JPsQuds5QYud"
   },
   "outputs": [],
   "source": [
    "model.compile(optimizer='adam',loss='binary_crossentropy',metrics=['accuracy'])"
   ]
  },
  {
   "cell_type": "markdown",
   "metadata": {
    "id": "7wJsxdk24H_g"
   },
   "source": [
    "In the next step we are going to train the model on our downloaded IMDB dataset."
   ]
  },
  {
   "cell_type": "code",
   "execution_count": 22,
   "metadata": {
    "colab": {
     "base_uri": "https://localhost:8080/"
    },
    "id": "YxUCLcRJQmBB",
    "outputId": "5dff0e7b-4544-48ac-fb87-4108ab34552b"
   },
   "outputs": [
    {
     "name": "stdout",
     "output_type": "stream",
     "text": [
      "Epoch 1/30\n",
      "49/49 [==============================] - 4s 56ms/step - loss: 0.6917 - accuracy: 0.5546 - val_loss: 0.6892 - val_accuracy: 0.6696\n",
      "Epoch 2/30\n",
      "49/49 [==============================] - 2s 49ms/step - loss: 0.6830 - accuracy: 0.6916 - val_loss: 0.6755 - val_accuracy: 0.6846\n",
      "Epoch 3/30\n",
      "49/49 [==============================] - 2s 49ms/step - loss: 0.6593 - accuracy: 0.7523 - val_loss: 0.6443 - val_accuracy: 0.7694\n",
      "Epoch 4/30\n",
      "49/49 [==============================] - 2s 49ms/step - loss: 0.6161 - accuracy: 0.7918 - val_loss: 0.5972 - val_accuracy: 0.7850\n",
      "Epoch 5/30\n",
      "49/49 [==============================] - 2s 49ms/step - loss: 0.5588 - accuracy: 0.8140 - val_loss: 0.5430 - val_accuracy: 0.8040\n",
      "Epoch 6/30\n",
      "49/49 [==============================] - 2s 49ms/step - loss: 0.4981 - accuracy: 0.8364 - val_loss: 0.4886 - val_accuracy: 0.8301\n",
      "Epoch 7/30\n",
      "49/49 [==============================] - 2s 50ms/step - loss: 0.4421 - accuracy: 0.8579 - val_loss: 0.4429 - val_accuracy: 0.8427\n",
      "Epoch 8/30\n",
      "49/49 [==============================] - 2s 50ms/step - loss: 0.3961 - accuracy: 0.8704 - val_loss: 0.4071 - val_accuracy: 0.8552\n",
      "Epoch 9/30\n",
      "49/49 [==============================] - 2s 49ms/step - loss: 0.3594 - accuracy: 0.8812 - val_loss: 0.3798 - val_accuracy: 0.8617\n",
      "Epoch 10/30\n",
      "49/49 [==============================] - 2s 50ms/step - loss: 0.3306 - accuracy: 0.8901 - val_loss: 0.3589 - val_accuracy: 0.8663\n",
      "Epoch 11/30\n",
      "49/49 [==============================] - 2s 50ms/step - loss: 0.3073 - accuracy: 0.8948 - val_loss: 0.3430 - val_accuracy: 0.8697\n",
      "Epoch 12/30\n",
      "49/49 [==============================] - 2s 50ms/step - loss: 0.2880 - accuracy: 0.9006 - val_loss: 0.3313 - val_accuracy: 0.8727\n",
      "Epoch 13/30\n",
      "49/49 [==============================] - 2s 50ms/step - loss: 0.2718 - accuracy: 0.9054 - val_loss: 0.3208 - val_accuracy: 0.8756\n",
      "Epoch 14/30\n",
      "49/49 [==============================] - 2s 49ms/step - loss: 0.2581 - accuracy: 0.9103 - val_loss: 0.3120 - val_accuracy: 0.8784\n",
      "Epoch 15/30\n",
      "49/49 [==============================] - 2s 46ms/step - loss: 0.2458 - accuracy: 0.9153 - val_loss: 0.3061 - val_accuracy: 0.8792\n",
      "Epoch 16/30\n",
      "49/49 [==============================] - 2s 46ms/step - loss: 0.2347 - accuracy: 0.9182 - val_loss: 0.3027 - val_accuracy: 0.8802\n",
      "Epoch 17/30\n",
      "49/49 [==============================] - 2s 49ms/step - loss: 0.2248 - accuracy: 0.9227 - val_loss: 0.2969 - val_accuracy: 0.8834\n",
      "Epoch 18/30\n",
      "49/49 [==============================] - 2s 49ms/step - loss: 0.2156 - accuracy: 0.9268 - val_loss: 0.2937 - val_accuracy: 0.8839\n",
      "Epoch 19/30\n",
      "49/49 [==============================] - 2s 49ms/step - loss: 0.2080 - accuracy: 0.9295 - val_loss: 0.2928 - val_accuracy: 0.8832\n",
      "Epoch 20/30\n",
      "49/49 [==============================] - 2s 49ms/step - loss: 0.2002 - accuracy: 0.9317 - val_loss: 0.2883 - val_accuracy: 0.8854\n",
      "Epoch 21/30\n",
      "49/49 [==============================] - 2s 49ms/step - loss: 0.1934 - accuracy: 0.9341 - val_loss: 0.2878 - val_accuracy: 0.8850\n",
      "Epoch 22/30\n",
      "49/49 [==============================] - 2s 49ms/step - loss: 0.1871 - accuracy: 0.9362 - val_loss: 0.2859 - val_accuracy: 0.8858\n",
      "Epoch 23/30\n",
      "49/49 [==============================] - 2s 49ms/step - loss: 0.1810 - accuracy: 0.9380 - val_loss: 0.2887 - val_accuracy: 0.8854\n",
      "Epoch 24/30\n",
      "49/49 [==============================] - 2s 49ms/step - loss: 0.1754 - accuracy: 0.9411 - val_loss: 0.2860 - val_accuracy: 0.8864\n",
      "Epoch 25/30\n",
      "49/49 [==============================] - 2s 49ms/step - loss: 0.1705 - accuracy: 0.9424 - val_loss: 0.2863 - val_accuracy: 0.8860\n",
      "Epoch 26/30\n",
      "49/49 [==============================] - 2s 49ms/step - loss: 0.1646 - accuracy: 0.9447 - val_loss: 0.2860 - val_accuracy: 0.8863\n",
      "Epoch 27/30\n",
      "49/49 [==============================] - 2s 49ms/step - loss: 0.1597 - accuracy: 0.9477 - val_loss: 0.2889 - val_accuracy: 0.8858\n",
      "Epoch 28/30\n",
      "49/49 [==============================] - 2s 49ms/step - loss: 0.1553 - accuracy: 0.9483 - val_loss: 0.2886 - val_accuracy: 0.8857\n",
      "Epoch 29/30\n",
      "49/49 [==============================] - 2s 50ms/step - loss: 0.1511 - accuracy: 0.9498 - val_loss: 0.2890 - val_accuracy: 0.8858\n",
      "Epoch 30/30\n",
      "49/49 [==============================] - 2s 49ms/step - loss: 0.1470 - accuracy: 0.9515 - val_loss: 0.2914 - val_accuracy: 0.8857\n"
     ]
    }
   ],
   "source": [
    "#training the model\n",
    "history=model.fit(train_data,train_labels,epochs=30,batch_size=512,validation_data=(test_data,test_labels))"
   ]
  },
  {
   "cell_type": "markdown",
   "metadata": {
    "id": "3FQWLj-i4dEK"
   },
   "source": [
    "Now we will be evaluating the loss and accuracy of our model on testing data."
   ]
  },
  {
   "cell_type": "code",
   "execution_count": 23,
   "metadata": {
    "colab": {
     "base_uri": "https://localhost:8080/"
    },
    "id": "aHLzEJI-RCWF",
    "outputId": "7f3c84cf-fc02-4d9c-c25d-b8ca15b3e95a"
   },
   "outputs": [
    {
     "name": "stdout",
     "output_type": "stream",
     "text": [
      "782/782 [==============================] - 2s 2ms/step - loss: 0.2914 - accuracy: 0.8857\n"
     ]
    }
   ],
   "source": [
    "loss,accuracy=model.evaluate(test_data,test_labels)"
   ]
  },
  {
   "cell_type": "markdown",
   "metadata": {
    "id": "NhtQ2vt44tvd"
   },
   "source": [
    "As we can see our model is giving an accuracy of 88.58% on the testing data."
   ]
  },
  {
   "cell_type": "markdown",
   "metadata": {
    "id": "mWH8VZPmisqr"
   },
   "source": [
    "Now we are going to take a random review from our test dataset and check wether our model produces correct output or not"
   ]
  },
  {
   "cell_type": "code",
   "execution_count": 24,
   "metadata": {
    "colab": {
     "base_uri": "https://localhost:8080/"
    },
    "id": "FiqpYZu7ipTa",
    "outputId": "aff57399-fb6b-426a-820b-86a143e5752f"
   },
   "outputs": [
    {
     "name": "stdout",
     "output_type": "stream",
     "text": [
      "Reviews      <START this movie was disappointing after 15 y...\n",
      "Sentiment                                             negative\n",
      "Name: 458, dtype: object\n"
     ]
    }
   ],
   "source": [
    "index=np.random.randint(1,1000)\n",
    "user_review=test_reviews.loc[index]\n",
    "print(user_review)\n"
   ]
  },
  {
   "cell_type": "markdown",
   "metadata": {
    "id": "Ml5oNL-dj-Ix"
   },
   "source": [
    "As we can see the sentiment for the above review is positive, now we are going to take the integer format of this particular review which we already have in our preprocessed test data and then give it as an input to our model to check the prediction of our model."
   ]
  },
  {
   "cell_type": "code",
   "execution_count": 25,
   "metadata": {
    "colab": {
     "base_uri": "https://localhost:8080/"
    },
    "id": "JLJGmSkej9Jl",
    "outputId": "6cc03304-d42e-4247-adcd-6f96da3c5ee1"
   },
   "outputs": [
    {
     "name": "stdout",
     "output_type": "stream",
     "text": [
      "1/1 [==============================] - 0s 182ms/step\n",
      "negative sentiment\n"
     ]
    }
   ],
   "source": [
    "user_review=test_data[index]\n",
    "user_review=np.array([user_review])\n",
    "if (model.predict(user_review)>0.5).astype(\"int32\"):\n",
    "  print(\"positive sentiment\")\n",
    "else:\n",
    "  print(\"negative sentiment\")\n"
   ]
  },
  {
   "cell_type": "markdown",
   "metadata": {
    "id": "rBfalQWOmg66"
   },
   "source": [
    "As we can see our model is now able to predict the sentiment of the review."
   ]
  },
  {
   "cell_type": "code",
   "execution_count": null,
   "metadata": {},
   "outputs": [],
   "source": []
  },
  {
   "cell_type": "code",
   "execution_count": null,
   "metadata": {},
   "outputs": [],
   "source": []
  }
 ],
 "metadata": {
  "colab": {
   "collapsed_sections": [],
   "name": "IMDB_sentiment_analysis_final",
   "provenance": [],
   "toc_visible": true
  },
  "kernelspec": {
   "display_name": "Python 3 (ipykernel)",
   "language": "python",
   "name": "python3"
  },
  "language_info": {
   "codemirror_mode": {
    "name": "ipython",
    "version": 3
   },
   "file_extension": ".py",
   "mimetype": "text/x-python",
   "name": "python",
   "nbconvert_exporter": "python",
   "pygments_lexer": "ipython3",
   "version": "3.9.13"
  }
 },
 "nbformat": 4,
 "nbformat_minor": 1
}
